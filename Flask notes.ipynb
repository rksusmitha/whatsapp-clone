{
 "cells": [
  {
   "cell_type": "markdown",
   "id": "8d2e382f",
   "metadata": {},
   "source": [
    "### Application Programming Interface (API)"
   ]
  },
  {
   "cell_type": "markdown",
   "id": "91c11d10",
   "metadata": {},
   "source": [
    "An API refers to a set of functions, protocols, tools and definitions that allow applications to access data and interact with other applications, operating systems, or microservices. The purpose of API is to let one piece of software communicate with another. The system requesting for information or service is called the client, the system providing the information or service is called the server and the system/software that facilitates the communication between the client and the server is called the API.\n",
    "\n",
    "Let us consider the Uber mobile app that you use to book a ride as an example. When you send a request to book a ride, \n",
    "an API routes the request from your mobile device to an application that can respond to the request. When a driver accepts the ride request, the application determines the route for the driver, calculates the distance, time of arrival and the ride cost. The driver will then pick you up and drive you to your destination. \n",
    "\n",
    "So you have requested for a service using the mobile application and the Uber application responded to the request meaning the mobile application has connected to another application in order to provide real-time services for you.\n",
    "The mobile application and Uber application are two endpoints while the API acts as an intermediary that allows the two applications to talk to each other.\n",
    "\n",
    "Many companies especially startup companies are making their data available through open or public API’s. These APIs are available at no cost and do not require any authentication. Companies offer the APIs for free for monetary benefit, visibility, and to collect data about user behaviour. Developers can access these APIs for up-to-date company data and use it for testing projects, integrate the tools and services provided by these APIs and build apps in very less time and provide a good user experience for the app users without having to build an application from scratch.\n",
    "For example, the Uber apps use Google Maps API to pull out the location data. \n",
    "\n",
    "As a developer you need not know how an API is implemented, you are more focused on how to use the API to solve your problem, how to use the API to communicate with other applications or products in order to provide better services, a good experience to the end users and add business value to the organization. "
   ]
  },
  {
   "attachments": {},
   "cell_type": "markdown",
   "id": "bf0738e0",
   "metadata": {},
   "source": [
    "<img src=\"/Users/susmitha/Desktop/Uber_app.png\" width=60 height=60/>"
   ]
  },
  {
   "attachments": {},
   "cell_type": "markdown",
   "id": "4fac48c4",
   "metadata": {},
   "source": []
  },
  {
   "cell_type": "markdown",
   "id": "9e60de54",
   "metadata": {},
   "source": [
    "### REST"
   ]
  },
  {
   "cell_type": "markdown",
   "id": "d61bef7e",
   "metadata": {},
   "source": [
    "REST is an acronym for Representational State Transfer. It is an architectural style that defines standards and a set of rules that systems on the web follow, making it easier for the systems to communicate with each other. \n",
    "\n",
    "REST consists of a set of constraints applied to components within the architecture. Few of the constraints are listed below:\n",
    "\n",
    "1. Client-Server Architecture -  The client and the server should be implemented independently without each knowing about the other. This separation will improve the portability of the front end part across multiple platforms and improve scalability by simplifying the server components.\n",
    "\n",
    "\n",
    "2. Statelessness -  Every request sent by the client must contain all the necessary information so that the server can understand it and process it accordingly. The server must not store any information about the state of the client. \n",
    "\n",
    "\n",
    "3. Cacheable - REST is cacheable. The client and the server can cache resources in order to improve performance.\n",
    "\n",
    "\n",
    "4. Layered system - REST allows the use of a layered system architecture. Each layer works independently and interacts only with the layers directly connected to it. When calling a server, a client should not know about the existence of other layers apart from the layers that it directly interacts with."
   ]
  },
  {
   "cell_type": "markdown",
   "id": "163b9fb1",
   "metadata": {},
   "source": [
    "The application requesting for a service/information uses an HTTP request and the application responding to the request uses an HTTP response. All requests are sent using an \"HTTP method\". The method defines the type of request being made to the web server. The most common types of request methods are GET and POST but there are many others, such as HEAD, PUT, DELETE, CONNECT, and OPTIONS."
   ]
  },
  {
   "cell_type": "markdown",
   "id": "7736f7c4",
   "metadata": {},
   "source": [
    "The GET method is used to retrieve and request data from a given server.\n",
    "\n",
    "The POST Method is used to send data to a server from an HTTP client."
   ]
  },
  {
   "cell_type": "markdown",
   "id": "a751cd4b",
   "metadata": {},
   "source": []
  },
  {
   "cell_type": "markdown",
   "id": "24c2b059",
   "metadata": {},
   "source": [
    "The formats of HTTP request and response messages are very similar.\n",
    "\n",
    "HTTP messages consist of three parts:\n",
    "\n",
    "#### Start line\n",
    "The first line of the message is the start line, which tells the server what to do with the request. The first line is generally split into three parts:  method name, requested resource's local path, and the HTTP version being used.\n",
    "\n",
    "Example: GET /https://ajaytech.co/ HTTP/1.1\n",
    "\n",
    "#### Header fields\n",
    "Header fields provide information about the request, or about the data being sent in the message body. \n",
    "Each of the header fields consists of a parameter name followed by a colon and then the parameter value.\n",
    "\n",
    "Example: \n",
    "Origin: https://ogs.google.com\n",
    "\n",
    "sec-ch-ua-platform: \"macOS\"\n",
    "\n",
    "#### Message Body\n",
    "The message body is used to send additional data that the server will use to process the request."
   ]
  },
  {
   "cell_type": "markdown",
   "id": "5886e21c",
   "metadata": {},
   "source": [
    "HTTP status code is a server's response to a browser’s request.  The codes indicate whether a specific HTTP request has been successfully completed. \n",
    "\n",
    "HTTP Response status codes:\n",
    "\n",
    "• 100-199 Informational\n",
    "\n",
    "• 200-299 Successful\n",
    "\n",
    "• 300-399 Redirection\n",
    "\n",
    "• 400-499 Client error\n",
    "\n",
    "• 500-599 Server error\n",
    "\n",
    "• 200 OK\n",
    "\n",
    "• 401 Unauthorized to access resource\n",
    "\n",
    "• 404 Requested resource does not exist"
   ]
  },
  {
   "cell_type": "markdown",
   "id": "decdadfd",
   "metadata": {},
   "source": [
    "When a client sends an HTTP request, the server gives access to a resource. This resource could be a text file, html page, photo or a video. Resources can be accessed using an API endpoint. An endpoint is the URL pattern used to communicate with an API. The server responds by capturing and sending a representation (current state) of the resource to the client. The representation of the resource can be sent to the client in JSON, XML, HTML, PHP or plain text formats."
   ]
  },
  {
   "cell_type": "markdown",
   "id": "f8b3ada1",
   "metadata": {},
   "source": [
    "Example of a message formatted using JSON:\n",
    "\n",
    "{\n",
    "\n",
    "accept-ranges                      : bytes\n",
    "\n",
    "age                                : 599654\n",
    "\n",
    "content-encoding                   : br\n",
    "\n",
    "content-length                     : 13394\n",
    "\n",
    "content-security-policy-report-only: require-trusted-types-for 'script'; report-uri https://csp.withgoogle.com/csp/botguard-scs\n",
    "\n",
    "content-type                       : text/javascript\n",
    "\n",
    "}"
   ]
  },
  {
   "cell_type": "markdown",
   "id": "0d55c224",
   "metadata": {},
   "source": [
    "### Rest API"
   ]
  },
  {
   "cell_type": "markdown",
   "id": "07a6f9be",
   "metadata": {},
   "source": [
    "A REST API is an API that adheres to REST architectural constraints. REST APIs are often referred to as RESTful APIs.\n",
    "The Uber API is an example of RESTful API which means the API is designed to allow you to get, create, update, and delete objects using the HTTP methods GET, POST, PUT, PATCH, and DELETE.\n",
    "\n",
    "When using a REST API, the client needs to provide an API key to access the API. An API key is a way to secure the access and it must be included in each request."
   ]
  },
  {
   "cell_type": "markdown",
   "id": "e73e2004",
   "metadata": {},
   "source": [
    "### Flask framework"
   ]
  },
  {
   "cell_type": "markdown",
   "id": "375e7b4a",
   "metadata": {},
   "source": [
    "A web development framework is a set of resources and tools that support the creation, development, and publishing of web applications, web services, APIs and web sites. It provides a standard set of design and development practices that can be applied to develop your application and significantly speed up the development process.\n",
    "\n",
    "Flask is a micro  web development framework for building web apps and services in Python. Micro frameworks are very useful for developing small applications that send and receive HTTP requests, route HTTP requests to a specific server, and return the server’s response."
   ]
  },
  {
   "cell_type": "markdown",
   "id": "25d69b77",
   "metadata": {},
   "source": [
    "Flask is a lightweight Python framework for developing web applications that provides functionalities that are  only essential such as Werkzueg based WSGI, routing, and jinja2-based template engine. If you need to add more features such as form validation, database abstraction, authentication, and so on to your web application then you can do so by using Flask extensions. Flask extensions are Python modules that extend the functionalities of the Flask Application and integrate seamlessly with Flask. These modules can be installed using the pip utility."
   ]
  },
  {
   "cell_type": "markdown",
   "id": "9cf9cce1",
   "metadata": {},
   "source": []
  },
  {
   "cell_type": "markdown",
   "id": "9ddf5fc3",
   "metadata": {},
   "source": []
  },
  {
   "cell_type": "markdown",
   "id": "5915ef70",
   "metadata": {},
   "source": [
    "### Core Functionalities of Flask web framework"
   ]
  },
  {
   "cell_type": "markdown",
   "id": "63d19352",
   "metadata": {},
   "source": [
    "#### Werkzeug based WSGI server"
   ]
  },
  {
   "cell_type": "markdown",
   "id": "b78ed316",
   "metadata": {},
   "source": [
    "Say you have developed a Python web application, and a web browser requests for services from your application. When a web browser sends a request to a web server, the web server routes this request to your Python application which processes the request and sends a response back to the web server which in turn sends it to the browser. Most web servers are written in C language, so they cannot directly talk with Python code. For this reason a WSGI (Web Server Gateway Interface) server is necessary for Python web applications. WSGI is an interface between a web server and a Python application. Werkzeug is a collection of libraries that can be used to create a WSGI-compliant web applications in Python.\n",
    "\n",
    "Flask by default comes with a built-in development server which is a WSGI server. The development server is provided by Werkzeug for convenience, it is a lightweight and simple server useful for development and testing purposes but it is not designed to be efficient, stable, or secure. So the development server should not be used in production. For production environment, replace the WSGI server with the more efficient and robust WSGI implementation such as Gunicorn or uWSGI."
   ]
  },
  {
   "cell_type": "markdown",
   "id": "a9ac0d41",
   "metadata": {},
   "source": [
    "#### Routing"
   ]
  },
  {
   "cell_type": "markdown",
   "id": "0fbab320",
   "metadata": {},
   "source": [
    "Routing is the mechanism by which client requests are routed to a function that handles them based on the provided URL and parameters. You need to define view functions or handler functions in your application to map incoming requests with specific path to a specific handler. Each route contains a URL and the associated view function.\n",
    "\n",
    "When your application receives a request, it tries to match the URL against one of the view functions. If there is a match, the view function takes the request, processes it, and returns the response. If no match is found, the client receives a 404 error. "
   ]
  },
  {
   "cell_type": "markdown",
   "id": "94dc5bdb",
   "metadata": {},
   "source": [
    "#### Jinja2 Template engine"
   ]
  },
  {
   "cell_type": "markdown",
   "id": "4213283b",
   "metadata": {},
   "source": [
    "A template engine is a software that provides static template files (pre-formatted files) for an application. A template engine can generate HTML web pages from the template files and the data that the application provides. The template files are text files that contain static content as well as place holders or variables for inserting dynamic content. During runtime, the template engine replaces variables in the template file with real values provided by the application, and transforms the template into an HTML file which is then sent to the client.\n",
    "\n",
    "Jinja2 is a template engine for Python."
   ]
  },
  {
   "cell_type": "markdown",
   "id": "63e2164e",
   "metadata": {},
   "source": [
    "### Set up Python environment for the Flask application"
   ]
  },
  {
   "cell_type": "markdown",
   "id": "69df74b7",
   "metadata": {},
   "source": [
    "Now let us set up a Python development environment for our Flask example application.\n",
    "\n",
    "1. Create a new directory for this application. Open the command prompt in your windows system and type the below commands:\n",
    "\n",
    "mkdir flask_example_app\n",
    "cd    flask_example_app\n",
    "\n",
    "These commands create a flask_example_app directory and changes the current working directory to it.\n",
    "\n",
    "\n",
    "2. Next create a Python virtual environment. A virtual environment is a tool to create isolated environments for different Python projects. The virtual environment consists of the Python interpreter, libraries and scripts installed that are isolated from the global Python interpreter installed in your system and from other virtual environments.\n",
    "\n",
    "The below commands create a virtual environment named 'venv' and activate it, so packages will be loaded and installed from this environment instead of using the system-level packages. \n",
    "\n",
    "$ python3 -m venv venv\n",
    "$ source venv/bin/activate\n",
    "\n",
    "The venv folder is created inside the flask_example_app folder with a brand-new virtual environment that contains a private Python interpreter. \n",
    "\n",
    "3. Installing Python Packages with pip\n",
    "To install Flask into the virtual environment, use the following command:\n",
    "(venv) $ pip install flask\n",
    "\n",
    "With this command, Flask and its dependencies are installed in the virtual environment. "
   ]
  },
  {
   "cell_type": "markdown",
   "id": "d28995fe",
   "metadata": {},
   "source": [
    "### Create the Flask application"
   ]
  },
  {
   "cell_type": "markdown",
   "id": "d0ac3342",
   "metadata": {},
   "source": [
    "The development environment is now set up, let's create a flask application. Create a new file in the flask_example_app directory with the following content and name it example.py."
   ]
  },
  {
   "cell_type": "markdown",
   "id": "b2652e82",
   "metadata": {},
   "source": [
    "from flask import Flask\n",
    "app = Flask(__name__)\n",
    "@app.route('/')\n",
    "def hello_world():\n",
    "     return 'Hello World'\n",
    "if __name__ == '__main__':\n",
    "     app.run()"
   ]
  },
  {
   "cell_type": "markdown",
   "id": "60f25807",
   "metadata": {},
   "source": [
    "Let us try to understand the code in example.py file.\n",
    "\n",
    "\n",
    "Line 1: `from flask import Flask` is basically importing the Flask class from the flask library.\n",
    "\n",
    "Line 2: We create an instance of the Flask class, called ‘app’.  The instance gets all the attributes and methods defined in the Flask class. The Flask constructor takes the special variable ‘__name__’ as the first argument. __name__ stores name of the current filename/script that is being executed. The file name is used to find resources on the filesystem such as static files, templates etc., When a python script is executed directly then  __name__ variable will always have the value __main__ and if that python script is imported in any other python file then the __name__ variable will have the name of the script.\n",
    "\n",
    "Line 3: We use route decorator (@app.route) provided by the Flask instance to bind a URL to a view function. @app.route is called a decorator and the first argument to the decorator is the URL, in this example we have passed the URL '/' which is the root directory or the homepage or the landing page of the website. @app.route decorator wraps the function hello_world() and executes code before the wrapped function runs. The decorator checks if the URL specified in the incoming request matches with the first argument passed to the decorator. If there is a match then the view function hello_world() is executed and the text ‘Hello World’ is returned.  Python decorators are often used in logging, authentication, authorization, timing, input_validation etc., \n",
    "\n",
    "Line 6:  The condition __name__ == \"__main__\"  checks if the python script (example.py) is executed directly, only then the run() method is called. The run() method will not be called if you import script in another Python module. Calling the run() method on the Flask object will start your application on the local development server.    "
   ]
  },
  {
   "cell_type": "markdown",
   "id": "c980c1ba",
   "metadata": {},
   "source": [
    "Now save this file and goto the command prompt, in the virtual environment folder 'venv' we created before type the below command:\n",
    "\n",
    "(venv) $  python example.py\n",
    "\n",
    "When you execute the above command, the console output should look something like this."
   ]
  },
  {
   "cell_type": "markdown",
   "id": "bbb13283",
   "metadata": {},
   "source": []
  },
  {
   "cell_type": "markdown",
   "id": "b325ee33",
   "metadata": {},
   "source": [
    "Your Flask application is now ready to receive requests. You can send a request to the application from the web browser in your system."
   ]
  },
  {
   "cell_type": "markdown",
   "id": "f371522b",
   "metadata": {},
   "source": [
    "In the console output the line - Running on http://127.0.0.1:5000/ :- means the Flask development server is running on the IP address - http://127.0.0.1 which is your local machine and is waiting to service requests on port 5000. Open the web browser on your system and goto the IP address - http://127.0.0.1:5000/, the page should display the text ‘Hello World’. This is the text returned by the view function."
   ]
  }
 ],
 "metadata": {
  "kernelspec": {
   "display_name": "Python 3",
   "language": "python",
   "name": "python3"
  },
  "language_info": {
   "codemirror_mode": {
    "name": "ipython",
    "version": 3
   },
   "file_extension": ".py",
   "mimetype": "text/x-python",
   "name": "python",
   "nbconvert_exporter": "python",
   "pygments_lexer": "ipython3",
   "version": "3.8.8"
  }
 },
 "nbformat": 4,
 "nbformat_minor": 5
}
