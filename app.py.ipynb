{
 "cells": [
  {
   "cell_type": "code",
   "execution_count": 1,
   "id": "b21c90a3",
   "metadata": {},
   "outputs": [],
   "source": [
    "from flask import Flask,render_template,request,redirect, url_for, flash, Response, json\n",
    "from flask_wtf import FlaskForm\n",
    "from wtforms import StringField, IntegerField, PasswordField, SubmitField\n",
    "from wtforms.validators import ValidationError, DataRequired, Length, EqualTo\n",
    "from flaskext.mysql import MySQL\n",
    "import tkinter.messagebox as tkmb\n",
    "from flask_socketio import SocketIO,emit,send\n",
    "#import eventlet\n",
    "#import gevent\n",
    "#from geventwebsocket import *\n",
    "#import geventwebsocket"
   ]
  },
  {
   "cell_type": "code",
   "execution_count": 2,
   "id": "b05ca37f",
   "metadata": {},
   "outputs": [],
   "source": [
    "app = Flask(__name__,template_folder='.')\n",
    "app.config['SECRET_KEY']='LongAndRandomSecretKey'\n",
    "#print (app.config)\n",
    "mysql = MySQL()\n",
    "\n",
    "socketio = SocketIO(app)\n",
    "\n",
    "app.config['MYSQL_DATABASE_HOST'] = 'localhost'\n",
    "app.config['MYSQL_DATABASE_USER'] = 'root'\n",
    "app.config['MYSQL_DATABASE_PASSWORD'] = 'vel0c1ty'\n",
    "app.config['MYSQL_DATABASE_DB'] = 'user_database'\n",
    "\n",
    "mysql.init_app(app)\n"
   ]
  },
  {
   "cell_type": "code",
   "execution_count": 3,
   "id": "6880cf77",
   "metadata": {},
   "outputs": [],
   "source": [
    "class SignInForm(FlaskForm):\n",
    "    username = StringField(label=('Enter Your Name:'),validators=[DataRequired(),Length(min=5, max=64, message='Name length must be between %(min)d and %(max)d characters')])\n",
    "    contact= IntegerField('Contact Number: ',validators = [DataRequired()])\n",
    "    password = PasswordField('Password: ',validators = [DataRequired(),Length(min=8, message='Password should be at least %(min)d characters long')])\n",
    "    submit = SubmitField(label=('Submit'))\n"
   ]
  },
  {
   "cell_type": "code",
   "execution_count": 4,
   "id": "714ff89a",
   "metadata": {},
   "outputs": [],
   "source": [
    "class SignUpForm(FlaskForm):\n",
    "    username = StringField(label=('Enter Your Name:'),validators=[DataRequired(),Length(min=5, max=64, message='Name length must be between %(min)d and %(max)d characters')])\n",
    "    contact= IntegerField('Contact Number: ',validators = [DataRequired()])\n",
    "    password = PasswordField('Password: ',validators = [DataRequired(),Length(min=8, message='Password should be at least %(min)d characters long')])\n",
    "    confirm_password = PasswordField ('Confirm Password: ',validators = [DataRequired(message='*Required'), EqualTo('password',message='Passwords should match')])\n",
    "    submit = SubmitField(label=('Submit'))\n",
    "    \n",
    "    def validate_contact (self,contact):\n",
    "            count = 0\n",
    "            x = self.contact.data\n",
    "            while True:\n",
    "                    x = x//10\n",
    "                    count += 1\n",
    "                    if x == 0:\n",
    "                        break\n",
    "     \n",
    "            if count != 10:\n",
    "                  return Response('Contact number should have 10 digits with no spaces in between')\n",
    "          #print ('Hello')\n",
    "\n",
    "    def validate_username (self,username):\n",
    "        print ('username: ',(self.username.data))\n",
    "        excluded_char = '!@#$%^&*()'\n",
    "        for char in self.username.data:\n",
    "            if (char in excluded_char):\n",
    "                raise ValidationError (f\"Character {char} is not allowed in username.\")"
   ]
  },
  {
   "cell_type": "code",
   "execution_count": 5,
   "id": "76946dc1",
   "metadata": {},
   "outputs": [],
   "source": [
    "\n",
    "@app.route ('/',methods=[\"GET\",\"POST\"])\n",
    "#@app.route('/signin',methods=[\"GET\",\"POST\"])\n",
    "@app.route ('/signin/',methods=[\"GET\",\"POST\"])\n",
    "\n",
    "\n",
    "def test():\n",
    "    print ('request.args: ',request.args)\n",
    "    print ('request: ',request)\n",
    "    #form = SignInForm()\n",
    "    if request.method == \"GET\":\n",
    "\n",
    "        \n",
    "        print ('Inside if GET: ',request.args)\n",
    "        if 'username' in request.args :\n",
    "\n",
    "            conn = mysql.connect()\n",
    "            cursor = conn.cursor()\n",
    "        \n",
    "            try:\n",
    "                    cursor.execute(\"SELECT * FROM users WHERE contact = {};\".format(request.args['contact']))\n",
    "                    result = cursor.fetchall()\n",
    "                    print ('result: ',result)\n",
    "            \n",
    "                    if len(result) == 0:\n",
    "                                message = \"Contact number does not exist\"\n",
    "                             #return render_template(\"signin.html\", form = form,message=message)  \n",
    "                             #tkmb.showerror ('Error',message)\n",
    "                                print (message)\n",
    "                                \n",
    "                                return Response( \"Contact number does not exist\",status=400)\n",
    "                    else:\n",
    "                           for row in result:\n",
    "                                    print ('row: ', row)\n",
    "                    \n",
    "                                    if request.args['username'] == row[0]:\n",
    "                                          if request.args['password'] == row[2]:\n",
    "                                                 message = \"All OK\"\n",
    "                                                 print (message)\n",
    "                                                 return Response(\"All OK\",status=200)\n",
    "\n",
    "                                          else:\n",
    "                                                message = 'Incorrect password'\n",
    "                                                #tkmb.showerror ('Error',message)\n",
    "                                                print (message)\n",
    "                                                return Response(message,status=400)\n",
    "                                    else:\n",
    "                                              message = 'Credentials do not match'\n",
    "                                     #return render_template(\"signin.html\", form = form,message=message) \n",
    "                                              #tkmb.showerror ('Error',message) \n",
    "                                              print (message)\n",
    "                                              return Response(message,status=400)\n",
    "            except Exception as e:\n",
    "                          print (e)\n",
    "            #print (\"Could'nt find your account\")\n",
    "    #return render_template(\"signin.html\", form = form)     \n",
    "            "
   ]
  },
  {
   "cell_type": "code",
   "execution_count": 6,
   "id": "59470004",
   "metadata": {},
   "outputs": [],
   "source": [
    "@app.route('/chatwindow/',methods=[\"POST\"])\n",
    "\n",
    "def add_friend():\n",
    "    \n",
    "    print (\"request.args['phone_num2']: \",request.args['phone_num2'])\n",
    "    print (\"request.args['phone_num1']: \",request.args['phone_num1'])\n",
    "    print ('request: ',request)\n",
    "\n",
    "    if request.method == \"POST\":\n",
    "\n",
    "        \n",
    "        print ('Inside if POST: ',request.args)\n",
    "        if ( ('phone_num1' in request.args) or \n",
    "            ('phone_num2' in request.args) ):  \n",
    "\n",
    "            conn = mysql.connect()\n",
    "            cursor = conn.cursor()\n",
    "        \n",
    "            try:     \n",
    "\n",
    "                    cursor.execute(\"SELECT * FROM friends WHERE phone_num1 = {};\".format(request.args['phone_num1']));\n",
    "                    pnum1_result = cursor.fetchall()\n",
    "                    print ('phone_num1 result: ',pnum1_result)\n",
    "                    \n",
    "                    \n",
    "                    cursor.execute(\"SELECT * FROM friends WHERE phone_num2 = {};\".format(request.args['phone_num2']));\n",
    "                    pnum2_result = cursor.fetchall()\n",
    "                    print ('phone_num2 result: ',pnum2_result)\n",
    "                    \n",
    "                    \n",
    "                    if ( (len(pnum1_result) != 0) and (len(pnum2_result) != 0) ):        \n",
    "    \n",
    "                            message = \"Contact number already in your friend's list\"\n",
    "                            return Response( message,status=200)\n",
    "                             \n",
    "                    else:\n",
    "                              try:\n",
    "                                   \n",
    "                                        cursor.execute (\"INSERT INTO friends (phone_num1,phone_num2,friend_name) VALUES (%s, %s, %s)\", \n",
    "                                                       (request.args['phone_num1'],\n",
    "                                                        request.args['phone_num2'],\n",
    "                                                        request.args['friend_name']));\n",
    "\n",
    "                                        conn.commit()\n",
    "                                        insert_result = cursor.fetchall()\n",
    "                                        print ('insert_result: ',insert_result)\n",
    "                                        message = \"Contact added to your friend's list\"\n",
    "                                        return Response(message,status=200)\n",
    "                                    \n",
    "                              except Exception as e:\n",
    "                                        print (e)\n",
    "                                        return Response(e,status=400)\n",
    "                                    \n",
    "               \n",
    "            except Exception as e:\n",
    "                    print (e)\n",
    "                    return Response(e,status=400)\n",
    "    \n",
    "    return Response('Error',status=500)\n"
   ]
  },
  {
   "cell_type": "code",
   "execution_count": 7,
   "id": "75053730",
   "metadata": {},
   "outputs": [],
   "source": [
    "@app.route('/sendmessage/',methods=[\"POST\"])\n",
    "\n",
    "def send_msg():\n",
    "    \n",
    "    print (\"request.args['P2']: \",request.args['P2'])\n",
    "    print (\"request.args['P1']: \",request.args['P1'])\n",
    "    print ('request: ',request)\n",
    "\n",
    "    if request.method == \"POST\":\n",
    "        print ('Inside if POST: ',request.args)\n",
    "        if ( ('P1' in request.args) or \n",
    "            ('P2' in request.args) ):  \n",
    "            conn = mysql.connect()\n",
    "            cursor = conn.cursor()\n",
    "            try:  \n",
    "                cursor.execute (\"INSERT INTO chats (P1,sender,P2,receiver,message) VALUES (%s,%s,%s,%s,%s)\" ,\n",
    "                                (request.args['P1'], \n",
    "                                 request.args['sender'],\n",
    "                                 request.args['P2'],\n",
    "                                 request.args['receiver'],\n",
    "                                 request.args['message'])\n",
    "                                 );\n",
    "                conn.commit()\n",
    "                \n",
    "                \n",
    "   \n",
    "                message = \"Message updated in table\"\n",
    "                return Response(message,status=200)\n",
    "\n",
    "            except Exception as e:\n",
    "                    print (e)\n",
    "                    return Response(e,status=400)\n",
    "    \n",
    "    return Response('Error',status=500)\n"
   ]
  },
  {
   "cell_type": "code",
   "execution_count": null,
   "id": "933d7273",
   "metadata": {},
   "outputs": [],
   "source": []
  },
  {
   "cell_type": "code",
   "execution_count": 8,
   "id": "34e1c452",
   "metadata": {},
   "outputs": [],
   "source": [
    "@socketio.on('connect')\n",
    "def test_connect():\n",
    "    print ('Client ' + request.sid +' connected to server')\n",
    "    socketio.emit('assign_client_id',data=request.sid, room=request.sid)\n",
    "  "
   ]
  },
  {
   "cell_type": "code",
   "execution_count": 9,
   "id": "eceff134",
   "metadata": {},
   "outputs": [],
   "source": [
    "@socketio.on('msg_to_frnd')\n",
    "def one_to_one_msg(incoming_msg_dict):\n",
    "    conn = mysql.connect()\n",
    "    cursor = conn.cursor()\n",
    "    try:  \n",
    "        cursor.execute (\"INSERT INTO chats (P1,sender,P2,receiver,message) VALUES (%s,%s,%s,%s,%s)\" ,\n",
    "                                (incoming_msg_dict['P1'], \n",
    "                                 incoming_msg_dict['sender'],\n",
    "                                 incoming_msg_dict['P2'],\n",
    "                                 incoming_msg_dict['receiver'],\n",
    "                                 incoming_msg_dict['message'])\n",
    "                                 );\n",
    "        conn.commit()\n",
    "        message = \"Message updated in table\"\n",
    "        status=\"OK\"\n",
    "        print ('status: ',status)\n",
    "        socketio.emit('chat_table_update_resp', data = {'message': message,'status':status})\n",
    "        \n",
    "        try:\n",
    "                    print ('SELECT * FROM chats WHERE id=(SELECT MAX(id) FROM chats) ')\n",
    "                    cursor.execute(\"SELECT * FROM chats WHERE id=(SELECT MAX(id) FROM chats);\")\n",
    "                    result = cursor.fetchall()   \n",
    "                    if len(result) != 0:\n",
    "                                 #response = jsonify({'error': 'forbidden', 'message': message})\n",
    "                                 #response.status_code = 403\n",
    "                                 #return response\n",
    "                                    socketio.emit('latest_msg', data=json.dumps(result),broadcast=True)   \n",
    "                                \n",
    "\n",
    "                    else:\n",
    "                        message = \"No latest records found\"\n",
    "                        status = \"Not OK\"\n",
    "                        socketio.emit('errors', data = {'message': message,'status':status})  \n",
    "                   \n",
    "        except Exception as e:\n",
    "                    print (e)\n",
    "                    message = \"Not able to fetch latest records\"\n",
    "                    status = \"Not OK\"\n",
    "                    socketio.emit('errors', data = {'message': message,'status':status})  \n",
    "\n",
    "        #socketio.emit('msg_from_frnd', data=incoming_msg_dict['message'])\n",
    "        \n",
    "    except Exception as e:\n",
    "        print (e)\n",
    "        message = \"Error updating chat table\"\n",
    "        status=\"Not OK\"\n",
    "        print ('status: ',status)\n",
    "        socketio.emit('chat_table_update_resp', data = {'message': message,'status':status})            \n",
    "    \n",
    "    #socketio.emit('msg_from_frnd', data=incoming_data['message'])\n",
    "\n",
    "\n",
    "                "
   ]
  },
  {
   "cell_type": "code",
   "execution_count": 10,
   "id": "44382253",
   "metadata": {},
   "outputs": [],
   "source": [
    "@app.route('/msglog/',methods=[\"GET\"])\n",
    "\n",
    "def msg_log():\n",
    "    \n",
    "    print (\"request.args['P2']: \",request.args['P2'])\n",
    "    print (\"request.args['P1']: \",request.args['P1'])\n",
    "    print ('request: ',request)\n",
    "\n",
    "    if request.method == \"GET\":\n",
    "        print ('Inside msglog if GET: ',request.args)\n",
    "        if ( ('P1' in request.args) and \n",
    "            ('P2' in request.args) ):  \n",
    "            conn = mysql.connect()\n",
    "            cursor = conn.cursor()\n",
    "            \n",
    "            try:\n",
    "                    cursor.execute(\"\"\"SELECT * \n",
    "                                      FROM chats \n",
    "                                      WHERE (P1={} AND P2={})\n",
    "                                      OR    (P1={} AND P2={});\"\"\".format(request.args['P1'],request.args['P2'],request.args['P2'],request.args['P1']))\n",
    "                    result = cursor.fetchall()   \n",
    "                    if len(result) != 0:\n",
    "                                 #response = jsonify({'error': 'forbidden', 'message': message})\n",
    "                                 #response.status_code = 403\n",
    "                                 #return response\n",
    "                                \n",
    "                                 response = app.response_class(\n",
    "                                               response=json.dumps(result),\n",
    "                                               status=200,\n",
    "                                               mimetype='application/json'\n",
    "                                               )\n",
    "                                 return response\n",
    "                    else:\n",
    "                        message = \"No records found\"\n",
    "                        return Response(message,status=200)\n",
    "                   \n",
    "            except Exception as e:\n",
    "                    print (e)\n",
    "                    return Response(e,status=400)\n",
    "\n",
    "    \n",
    "    return Response('Error',status=500)\n",
    "\n"
   ]
  },
  {
   "cell_type": "code",
   "execution_count": 11,
   "id": "26c09fa2",
   "metadata": {},
   "outputs": [],
   "source": [
    "@app.route ('/displaylist/',methods=[\"GET\"])\n",
    "\n",
    "\n",
    "def display_list():\n",
    "    if request.method == \"GET\":\n",
    "            if 'phone_num1' in request.args:\n",
    "                conn = mysql.connect()\n",
    "                cursor = conn.cursor()\n",
    "           \n",
    "                try:     \n",
    "\n",
    "                    cursor.execute(\"SELECT friend_name, phone_num2 FROM friends WHERE phone_num1 = {};\".format(request.args['phone_num1']));\n",
    "                    result = cursor.fetchall()\n",
    "        \n",
    "                    print ('friends list result: ',result)\n",
    "            \n",
    "                    if len(result) != 0:\n",
    "                                 #response = jsonify({'error': 'forbidden', 'message': message})\n",
    "                                 #response.status_code = 403\n",
    "                                 #return response\n",
    "                                \n",
    "                                 response = app.response_class(\n",
    "                                               response=json.dumps(result),\n",
    "                                               status=200,\n",
    "                                               mimetype='application/json'\n",
    "                                               )\n",
    "                                 return response\n",
    "                            \n",
    "                except Exception as e:\n",
    "                    print (e)\n",
    "                    return Response(e,status=400) \n",
    "    return Response('Error',status=500)          "
   ]
  },
  {
   "cell_type": "code",
   "execution_count": 12,
   "id": "841dfb36",
   "metadata": {},
   "outputs": [],
   "source": [
    "@app.route ('/signup/',methods=[\"GET\",\"POST\"])\n",
    "\n",
    "def index():\n",
    "     form = SignUpForm()\n",
    "    #print ('request: ', request.form)\n",
    "     if request.method == \"POST\": \n",
    "        if form.validate_on_submit():\n",
    "                details = request.form\n",
    "                input_username = details['username']\n",
    "                input_contact = details['contact']\n",
    "                input_password = details['password']\n",
    "                input_confirm_password = details['confirm_password']\n",
    "                \n",
    "            \n",
    "                #cur = mysql.get_db().cursor()\n",
    "                conn = mysql.connect()\n",
    "                cursor = conn.cursor()\n",
    "                try:\n",
    "                    \n",
    "                        cursor.execute(\"INSERT INTO users(username, contact, password, confirm_password) VALUES (%s, %s, %s, %s)\", \n",
    "                            (input_username, input_contact, input_password, input_confirm_password))\n",
    "                        conn.commit()\n",
    "                        flash ('User successfully registered, please login with your name and password')\n",
    "                        #return redirect('/')\n",
    "                        return render_template(\"signin.html\", form = form)\n",
    "                except Exception as e:\n",
    "                       if e.args[0] == 1062:\n",
    "                            message = 'User already exists'\n",
    "                            return render_template(\"index.html\", form = form,message= message)\n",
    "                \n",
    "                #mysql.connect().close()\n",
    "                #return 'success'\n",
    "          \n",
    "        \n",
    "        \n",
    "     return render_template(\"index.html\", form = form)\n",
    "        \n",
    "        \n",
    "        \n",
    "        \n",
    "        #print ('is_submitted: ', form.is_submitted())\n",
    "        #print ('form.validate: ', form.validate())\n",
    "        #print ('form.validate_on_submit(): ',form.validate_on_submit())\n",
    "        #return f'''<h1> Welcome {form.username.data} </h1>'''\n",
    "    #print ('errors: ', form.errors)\n",
    "    #print ('items: ',form.errors.items())\n",
    "    #return render_template('index.html', form=form)\n",
    "    #return None"
   ]
  },
  {
   "cell_type": "code",
   "execution_count": null,
   "id": "81e67725",
   "metadata": {},
   "outputs": [
    {
     "name": "stderr",
     "output_type": "stream",
     "text": [
      "[2021-10-11 10:49:14,139] WARNING in __init__: WebSocket transport not available. Install gevent-websocket for improved performance.\n"
     ]
    },
    {
     "name": "stdout",
     "output_type": "stream",
     "text": [
      "request.args:  ImmutableMultiDict([('username', 'Susmitha'), ('contact', '9704056271'), ('password', 'myhome12')])\n",
      "request:  <Request 'http://127.0.0.1:5000/signin/?username=Susmitha&contact=9704056271&password=myhome12' [GET]>\n",
      "Inside if GET:  ImmutableMultiDict([('username', 'Susmitha'), ('contact', '9704056271'), ('password', 'myhome12')])\n",
      "result:  (('Susmitha', '9704056271', 'myhome12', 'myhome12'),)\n",
      "row:  ('Susmitha', '9704056271', 'myhome12', 'myhome12')\n",
      "All OK\n",
      "friends list result:  (('Aishu', '1234567890'), ('NAjay', '1234567899'), ('NSivaP', '7702954705'))\n"
     ]
    },
    {
     "name": "stderr",
     "output_type": "stream",
     "text": [
      "The WebSocket transport is not available, you must install a WebSocket server that is compatible with your async mode to enable it. See the documentation for details. (further occurrences of this error will be logged with level INFO)\n"
     ]
    },
    {
     "name": "stdout",
     "output_type": "stream",
     "text": [
      "request.args['P2']:  7702954705\n",
      "request.args['P1']:  9704056271\n",
      "request:  <Request 'http://127.0.0.1:5000/msglog/?P1=9704056271&P2=7702954705' [GET]>\n",
      "Inside msglog if GET:  ImmutableMultiDict([('P1', '9704056271'), ('P2', '7702954705')])\n",
      "Client KVayc0I62jbW-70ZAAAB connected to server\n",
      "request.args:  ImmutableMultiDict([('username', 'NSivaP'), ('contact', '7702954705'), ('password', 'myhome02')])\n",
      "request:  <Request 'http://127.0.0.1:5000/signin/?username=NSivaP&contact=7702954705&password=myhome02' [GET]>\n",
      "Inside if GET:  ImmutableMultiDict([('username', 'NSivaP'), ('contact', '7702954705'), ('password', 'myhome02')])\n",
      "result:  (('NSivaP', '7702954705', 'myhome02', 'myhome02'),)\n",
      "row:  ('NSivaP', '7702954705', 'myhome02', 'myhome02')\n",
      "All OK\n",
      "friends list result:  (('HomeMinister', '9704056271'),)\n",
      "request.args['P2']:  9704056271\n",
      "request.args['P1']:  7702954705\n",
      "request:  <Request 'http://127.0.0.1:5000/msglog/?P1=7702954705&P2=9704056271' [GET]>\n",
      "Inside msglog if GET:  ImmutableMultiDict([('P1', '7702954705'), ('P2', '9704056271')])\n",
      "Client H3kv7VODC2Z316M1AAAD connected to server\n",
      "status:  OK\n",
      "SELECT * FROM chats WHERE id=(SELECT MAX(id) FROM chats) \n",
      "status:  OK\n",
      "SELECT * FROM chats WHERE id=(SELECT MAX(id) FROM chats) \n"
     ]
    }
   ],
   "source": [
    "if __name__ == '__main__':\n",
    "    socketio.run(app, host = '127.0.0.1', port=5000)"
   ]
  },
  {
   "cell_type": "code",
   "execution_count": 1,
   "id": "7e1f5ca6",
   "metadata": {},
   "outputs": [],
   "source": []
  },
  {
   "cell_type": "code",
   "execution_count": 4,
   "id": "4eb1a368",
   "metadata": {},
   "outputs": [
    {
     "ename": "TypeError",
     "evalue": "connect() missing 1 required positional argument: 'self'",
     "output_type": "error",
     "traceback": [
      "\u001b[0;31m---------------------------------------------------------------------------\u001b[0m",
      "\u001b[0;31mTypeError\u001b[0m                                 Traceback (most recent call last)",
      "\u001b[0;32m<ipython-input-4-2b47d970f2ae>\u001b[0m in \u001b[0;36m<module>\u001b[0;34m\u001b[0m\n\u001b[0;32m----> 1\u001b[0;31m \u001b[0mdir\u001b[0m\u001b[0;34m(\u001b[0m\u001b[0mMySQL\u001b[0m\u001b[0;34m.\u001b[0m\u001b[0mconnect\u001b[0m\u001b[0;34m(\u001b[0m\u001b[0;34m)\u001b[0m\u001b[0;34m)\u001b[0m\u001b[0;34m\u001b[0m\u001b[0;34m\u001b[0m\u001b[0m\n\u001b[0m",
      "\u001b[0;31mTypeError\u001b[0m: connect() missing 1 required positional argument: 'self'"
     ]
    }
   ],
   "source": []
  },
  {
   "cell_type": "code",
   "execution_count": 4,
   "id": "53b8577d",
   "metadata": {},
   "outputs": [
    {
     "ename": "NameError",
     "evalue": "name 'python' is not defined",
     "output_type": "error",
     "traceback": [
      "\u001b[0;31m---------------------------------------------------------------------------\u001b[0m",
      "\u001b[0;31mNameError\u001b[0m                                 Traceback (most recent call last)",
      "\u001b[0;32m<ipython-input-4-45a3ce2a2cc7>\u001b[0m in \u001b[0;36m<module>\u001b[0;34m\u001b[0m\n\u001b[0;32m----> 1\u001b[0;31m \u001b[0mpython\u001b[0m\u001b[0;34m.\u001b[0m\u001b[0m__version__\u001b[0m\u001b[0;34m\u001b[0m\u001b[0;34m\u001b[0m\u001b[0m\n\u001b[0m",
      "\u001b[0;31mNameError\u001b[0m: name 'python' is not defined"
     ]
    }
   ],
   "source": []
  },
  {
   "cell_type": "code",
   "execution_count": 2,
   "id": "d052651b",
   "metadata": {},
   "outputs": [
    {
     "data": {
      "text/plain": [
       "['__annotations__',\n",
       " '__call__',\n",
       " '__class__',\n",
       " '__closure__',\n",
       " '__code__',\n",
       " '__defaults__',\n",
       " '__delattr__',\n",
       " '__dict__',\n",
       " '__dir__',\n",
       " '__doc__',\n",
       " '__eq__',\n",
       " '__format__',\n",
       " '__ge__',\n",
       " '__get__',\n",
       " '__getattribute__',\n",
       " '__globals__',\n",
       " '__gt__',\n",
       " '__hash__',\n",
       " '__init__',\n",
       " '__init_subclass__',\n",
       " '__kwdefaults__',\n",
       " '__le__',\n",
       " '__lt__',\n",
       " '__module__',\n",
       " '__name__',\n",
       " '__ne__',\n",
       " '__new__',\n",
       " '__qualname__',\n",
       " '__reduce__',\n",
       " '__reduce_ex__',\n",
       " '__repr__',\n",
       " '__setattr__',\n",
       " '__sizeof__',\n",
       " '__str__',\n",
       " '__subclasshook__']"
      ]
     },
     "execution_count": 2,
     "metadata": {},
     "output_type": "execute_result"
    }
   ],
   "source": []
  },
  {
   "cell_type": "code",
   "execution_count": 6,
   "id": "ea554771",
   "metadata": {},
   "outputs": [
    {
     "data": {
      "text/plain": [
       "['__class__',\n",
       " '__delattr__',\n",
       " '__dict__',\n",
       " '__dir__',\n",
       " '__doc__',\n",
       " '__eq__',\n",
       " '__format__',\n",
       " '__ge__',\n",
       " '__getattribute__',\n",
       " '__gt__',\n",
       " '__hash__',\n",
       " '__init__',\n",
       " '__init_subclass__',\n",
       " '__le__',\n",
       " '__lt__',\n",
       " '__module__',\n",
       " '__ne__',\n",
       " '__new__',\n",
       " '__reduce__',\n",
       " '__reduce_ex__',\n",
       " '__repr__',\n",
       " '__setattr__',\n",
       " '__sizeof__',\n",
       " '__str__',\n",
       " '__subclasshook__',\n",
       " '__weakref__',\n",
       " 'connect',\n",
       " 'get_db',\n",
       " 'init_app',\n",
       " 'teardown_request']"
      ]
     },
     "execution_count": 6,
     "metadata": {},
     "output_type": "execute_result"
    }
   ],
   "source": [
    "dir (MySQL)"
   ]
  },
  {
   "cell_type": "code",
   "execution_count": 6,
   "id": "c0476815",
   "metadata": {},
   "outputs": [
    {
     "name": "stdout",
     "output_type": "stream",
     "text": [
      "Object `Error` not found.\n"
     ]
    }
   ],
   "source": [
    "MySQL.connect().Error?"
   ]
  },
  {
   "cell_type": "code",
   "execution_count": null,
   "id": "8ad925db",
   "metadata": {},
   "outputs": [],
   "source": [
    "MySQL.connect().Error"
   ]
  },
  {
   "cell_type": "code",
   "execution_count": 7,
   "id": "eb1371f7",
   "metadata": {},
   "outputs": [
    {
     "ename": "TypeError",
     "evalue": "connect() missing 1 required positional argument: 'self'",
     "output_type": "error",
     "traceback": [
      "\u001b[0;31m---------------------------------------------------------------------------\u001b[0m",
      "\u001b[0;31mTypeError\u001b[0m                                 Traceback (most recent call last)",
      "\u001b[0;32m<ipython-input-7-c55bd3b52585>\u001b[0m in \u001b[0;36m<module>\u001b[0;34m\u001b[0m\n\u001b[0;32m----> 1\u001b[0;31m \u001b[0mdir\u001b[0m\u001b[0;34m(\u001b[0m\u001b[0mMySQL\u001b[0m\u001b[0;34m.\u001b[0m\u001b[0mconnect\u001b[0m\u001b[0;34m(\u001b[0m\u001b[0;34m)\u001b[0m\u001b[0;34m.\u001b[0m\u001b[0mError\u001b[0m\u001b[0;34m)\u001b[0m\u001b[0;34m\u001b[0m\u001b[0;34m\u001b[0m\u001b[0m\n\u001b[0m",
      "\u001b[0;31mTypeError\u001b[0m: connect() missing 1 required positional argument: 'self'"
     ]
    }
   ],
   "source": [
    "dir(MySQL.connect().Error)"
   ]
  },
  {
   "cell_type": "code",
   "execution_count": 7,
   "id": "37b8a2fd",
   "metadata": {},
   "outputs": [
    {
     "data": {
      "text/plain": [
       "[]"
      ]
     },
     "execution_count": 7,
     "metadata": {},
     "output_type": "execute_result"
    }
   ],
   "source": [
    "dir(request)"
   ]
  },
  {
   "cell_type": "code",
   "execution_count": 8,
   "id": "9b7c3d94",
   "metadata": {},
   "outputs": [
    {
     "data": {
      "text/plain": [
       "<LocalProxy unbound>"
      ]
     },
     "execution_count": 8,
     "metadata": {},
     "output_type": "execute_result"
    }
   ],
   "source": [
    "request."
   ]
  },
  {
   "cell_type": "code",
   "execution_count": 1,
   "id": "1d999ddc",
   "metadata": {},
   "outputs": [
    {
     "data": {
      "text/plain": [
       "3"
      ]
     },
     "execution_count": 1,
     "metadata": {},
     "output_type": "execute_result"
    }
   ],
   "source": [
    "1+2"
   ]
  },
  {
   "cell_type": "code",
   "execution_count": null,
   "id": "fdb6fb36",
   "metadata": {},
   "outputs": [],
   "source": []
  }
 ],
 "metadata": {
  "kernelspec": {
   "display_name": "Python 3",
   "language": "python",
   "name": "python3"
  },
  "language_info": {
   "codemirror_mode": {
    "name": "ipython",
    "version": 3
   },
   "file_extension": ".py",
   "mimetype": "text/x-python",
   "name": "python",
   "nbconvert_exporter": "python",
   "pygments_lexer": "ipython3",
   "version": "3.8.8"
  }
 },
 "nbformat": 4,
 "nbformat_minor": 5
}
