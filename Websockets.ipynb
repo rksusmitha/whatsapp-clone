{
 "cells": [
  {
   "cell_type": "markdown",
   "id": "d7531da0",
   "metadata": {},
   "source": [
    "### Websockets"
   ]
  },
  {
   "cell_type": "markdown",
   "id": "d092adc0",
   "metadata": {},
   "source": [
    "### REST API"
   ]
  },
  {
   "cell_type": "markdown",
   "id": "f1c0ef4c",
   "metadata": {},
   "source": [
    "REST API is an architectural style that defines standards and a set of rules that systems on the web follow, making it easier for the systems to communicate with each other. Restful APIs use HTTP as the communication protocol. In the HTTP system, the communication can only be initiated from the client to the server. The client sends a request using the HTTP methods GET, POST, PUT , DELETE and the server responds to the request. By default, HTTP connections close after each request to release the resources. \n",
    "\n",
    "If the client's requirement is to get real-time updates such as stock market data from the server then opening and closing connections after each request creates overhead and consumes unnecessary bandwidth because the client needs to constantly send requests to the server to get periodic resource updates. \n",
    "\n",
    "REST API are better suited for basic CRUD operations and when data demands are not continuous. Websockets are ideal for real time data communication and to provide interactive experience and instant data to the end user."
   ]
  },
  {
   "cell_type": "markdown",
   "id": "65e92b45",
   "metadata": {},
   "source": [
    "### Websockets"
   ]
  },
  {
   "cell_type": "markdown",
   "id": "70794d80",
   "metadata": {},
   "source": [
    "The WebSocket protocol allows for a two way communication between the client and server. This means the client sends a request to the server requesting for resource representation and the server responds to the request, after this if there is any change to the state of the resource, updates are sent by the server without the client having to send a request again. On the server side, the server can send updates without having to receive a request from the client. \n",
    "The WebSocket protocol enables the client and the server to send data independently and helps with the continuous flow of data.\n",
    "\n"
   ]
  },
  {
   "cell_type": "code",
   "execution_count": null,
   "id": "cd6de008",
   "metadata": {},
   "outputs": [],
   "source": []
  },
  {
   "cell_type": "code",
   "execution_count": null,
   "id": "c925af35",
   "metadata": {},
   "outputs": [],
   "source": []
  },
  {
   "cell_type": "code",
   "execution_count": null,
   "id": "aa40675d",
   "metadata": {},
   "outputs": [],
   "source": []
  },
  {
   "cell_type": "code",
   "execution_count": null,
   "id": "de1b4d89",
   "metadata": {},
   "outputs": [],
   "source": []
  }
 ],
 "metadata": {
  "kernelspec": {
   "display_name": "Python 3",
   "language": "python",
   "name": "python3"
  },
  "language_info": {
   "codemirror_mode": {
    "name": "ipython",
    "version": 3
   },
   "file_extension": ".py",
   "mimetype": "text/x-python",
   "name": "python",
   "nbconvert_exporter": "python",
   "pygments_lexer": "ipython3",
   "version": "3.8.8"
  }
 },
 "nbformat": 4,
 "nbformat_minor": 5
}
