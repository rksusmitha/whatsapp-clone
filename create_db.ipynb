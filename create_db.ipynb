{
 "cells": [
  {
   "cell_type": "code",
   "execution_count": 2,
   "id": "12ba5e84",
   "metadata": {},
   "outputs": [
    {
     "name": "stdout",
     "output_type": "stream",
     "text": [
      "Enter username: root\n",
      "Enter password: ········\n",
      "1007 (HY000): Can't create database 'user_database'; database exists\n"
     ]
    }
   ],
   "source": [
    "from getpass import getpass\n",
    "from mysql.connector import connect, Error\n",
    "\n",
    "try:\n",
    "    with connect(\n",
    "        host=\"localhost\",\n",
    "        user=input(\"Enter username: \"),\n",
    "        password=getpass(\"Enter password: \"),\n",
    "    ) as connection:\n",
    "        create_db_query = \"CREATE DATABASE user_database\"\n",
    "        with connection.cursor() as cursor:\n",
    "            cursor.execute(create_db_query)\n",
    "except Error as e:\n",
    "    print(e)"
   ]
  },
  {
   "cell_type": "code",
   "execution_count": 4,
   "id": "05fab977",
   "metadata": {},
   "outputs": [],
   "source": [
    "create_users_table_query =\"\"\"\n",
    "CREATE TABLE users (\n",
    "       id INT AUTO_INCREMENT PRIMARY KEY,\n",
    "       username VARCHAR(64),\n",
    "       contact  INT,\n",
    "       password VARCHAR (8),\n",
    "       confirm_password VARCHAR (8)\n",
    ")\n",
    "\"\"\""
   ]
  },
  {
   "cell_type": "code",
   "execution_count": 5,
   "id": "2f1aea44",
   "metadata": {},
   "outputs": [
    {
     "name": "stdout",
     "output_type": "stream",
     "text": [
      "Enter username: root\n",
      "Enter password: ········\n"
     ]
    }
   ],
   "source": [
    "try:\n",
    "    with connect(\n",
    "        host=\"localhost\",\n",
    "        user=input(\"Enter username: \"),\n",
    "        password=getpass(\"Enter password: \"),\n",
    "        database = 'user_database'\n",
    "    ) as connection:\n",
    "        \n",
    "        with connection.cursor() as cursor:\n",
    "                        cursor.execute(create_users_table_query)\n",
    "                        connection.commit()\n",
    "except Error as e:\n",
    "    print(e)"
   ]
  },
  {
   "cell_type": "code",
   "execution_count": 6,
   "id": "f123d73b",
   "metadata": {},
   "outputs": [
    {
     "name": "stdout",
     "output_type": "stream",
     "text": [
      "Enter username: root\n",
      "Enter password: ········\n",
      "('id', b'int', 'NO', 'PRI', None, 'auto_increment')\n",
      "('username', b'varchar(64)', 'YES', '', None, '')\n",
      "('contact', b'int', 'YES', '', None, '')\n",
      "('password', b'varchar(8)', 'YES', '', None, '')\n",
      "('confirm_password', b'varchar(8)', 'YES', '', None, '')\n"
     ]
    }
   ],
   "source": [
    "show_table_query = \"DESCRIBE users\"\n",
    "\n",
    "try:\n",
    "    with connect(\n",
    "        host=\"localhost\",\n",
    "        user=input(\"Enter username: \"),\n",
    "        password=getpass(\"Enter password: \"),\n",
    "        database = 'user_database'\n",
    "    ) as connection:\n",
    "         with connection.cursor() as cursor:\n",
    "                        cursor.execute(show_table_query)\n",
    "                        result = cursor.fetchall()\n",
    "                        for row in result:\n",
    "                            print (row)\n",
    "except Error as e:\n",
    "    print(e)         "
   ]
  },
  {
   "cell_type": "code",
   "execution_count": 7,
   "id": "d1eff0a0",
   "metadata": {},
   "outputs": [
    {
     "name": "stdout",
     "output_type": "stream",
     "text": [
      "Enter username: root\n",
      "Enter password: ········\n",
      "('information_schema',)\n",
      "('mysql',)\n",
      "('online_movie_rating',)\n",
      "('performance_schema',)\n",
      "('school',)\n",
      "('sys',)\n",
      "('user_database',)\n"
     ]
    }
   ],
   "source": [
    "try:\n",
    "    with connect(\n",
    "        host=\"localhost\",\n",
    "        user=input(\"Enter username: \"),\n",
    "        password=getpass(\"Enter password: \"),\n",
    "    ) as connection:\n",
    "        show_db_query = \"SHOW DATABASES\"\n",
    "        with connection.cursor() as cursor:\n",
    "            cursor.execute(show_db_query)\n",
    "            for db in cursor:\n",
    "                print (db)\n",
    "except Error as e:\n",
    "    print(e)"
   ]
  },
  {
   "cell_type": "code",
   "execution_count": 8,
   "id": "5f227b17",
   "metadata": {},
   "outputs": [
    {
     "ename": "SyntaxError",
     "evalue": "invalid syntax (<ipython-input-8-15ae70fa3f3b>, line 1)",
     "output_type": "error",
     "traceback": [
      "\u001b[0;36m  File \u001b[0;32m\"<ipython-input-8-15ae70fa3f3b>\"\u001b[0;36m, line \u001b[0;32m1\u001b[0m\n\u001b[0;31m    SELECT user, host FROM mysql.user WHERE user = 'root';\u001b[0m\n\u001b[0m           ^\u001b[0m\n\u001b[0;31mSyntaxError\u001b[0m\u001b[0;31m:\u001b[0m invalid syntax\n"
     ]
    }
   ],
   "source": [
    "SELECT user, host FROM mysql.user WHERE user = 'root';"
   ]
  },
  {
   "cell_type": "code",
   "execution_count": 11,
   "id": "68191431",
   "metadata": {},
   "outputs": [
    {
     "ename": "SyntaxError",
     "evalue": "invalid syntax (<ipython-input-11-b310c727882c>, line 9)",
     "output_type": "error",
     "traceback": [
      "\u001b[0;36m  File \u001b[0;32m\"<ipython-input-11-b310c727882c>\"\u001b[0;36m, line \u001b[0;32m9\u001b[0m\n\u001b[0;31m    cursor.execute(SELECT * FROM mysql.user WHERE user = 'root';)\u001b[0m\n\u001b[0m                                 ^\u001b[0m\n\u001b[0;31mSyntaxError\u001b[0m\u001b[0;31m:\u001b[0m invalid syntax\n"
     ]
    }
   ],
   "source": [
    "try:\n",
    "    with connect(\n",
    "        host=\"localhost\",\n",
    "        user=input(\"Enter username: \"),\n",
    "        password=getpass(\"Enter password: \"),\n",
    "    ) as connection:\n",
    "        show_db_query = \"SHOW DATABASES\"\n",
    "        with connection.cursor() as cursor:\n",
    "            cursor.execute(SELECT * FROM mysql.user WHERE user = 'root';)\n",
    "            for db in cursor:\n",
    "                print (db)\n",
    "except Error as e:\n",
    "    print(e)"
   ]
  },
  {
   "cell_type": "code",
   "execution_count": 21,
   "id": "72149e8a",
   "metadata": {},
   "outputs": [],
   "source": [
    "alter_userdb_query = \"\"\"ALTER TABLE users MODIFY contact VARCHAR(10) NOT NULL;\"\"\""
   ]
  },
  {
   "cell_type": "code",
   "execution_count": 22,
   "id": "4fd53162",
   "metadata": {},
   "outputs": [
    {
     "name": "stdout",
     "output_type": "stream",
     "text": [
      "Enter username: root\n",
      "Enter password: ········\n"
     ]
    }
   ],
   "source": [
    "try:\n",
    "    with connect(\n",
    "        host=\"localhost\",\n",
    "        user=input(\"Enter username: \"),\n",
    "        password=getpass(\"Enter password: \"),\n",
    "        database = 'user_database'\n",
    "    ) as connection:\n",
    "        \n",
    "        with connection.cursor() as cursor:\n",
    "            cursor.execute(alter_userdb_query)\n",
    "            \n",
    "except Error as e:\n",
    "    print(e)"
   ]
  },
  {
   "cell_type": "code",
   "execution_count": 65,
   "id": "49e45ac3",
   "metadata": {},
   "outputs": [
    {
     "name": "stdout",
     "output_type": "stream",
     "text": [
      "Enter username: root\n",
      "Enter password: ········\n",
      "('id', b'int', 'NO', 'PRI', None, 'auto_increment')\n",
      "('title', b'varchar(100)', 'YES', '', None, '')\n",
      "('release_year', b'year', 'YES', '', None, '')\n",
      "('genre', b'varchar(100)', 'YES', '', None, '')\n",
      "('collection_in_mil', b'int', 'YES', '', None, '')\n"
     ]
    }
   ],
   "source": [
    "show_table_query = \"DESCRIBE movies\"\n",
    "\n",
    "try:\n",
    "    with connect(\n",
    "        host=\"localhost\",\n",
    "        user=input(\"Enter username: \"),\n",
    "        password=getpass(\"Enter password: \"),\n",
    "        database = 'online_movie_rating'\n",
    "    ) as connection:\n",
    "         with connection.cursor() as cursor:\n",
    "                        cursor.execute(show_table_query)\n",
    "                        result = cursor.fetchall()\n",
    "                        for row in result:\n",
    "                            print (row)\n",
    "except Error as e:\n",
    "    print(e) "
   ]
  },
  {
   "cell_type": "code",
   "execution_count": 2,
   "id": "e9988f9d",
   "metadata": {},
   "outputs": [],
   "source": [
    "select_users_table_query = \"\"\" SELECT * FROM users \"\"\""
   ]
  },
  {
   "cell_type": "code",
   "execution_count": 4,
   "id": "18a48d61",
   "metadata": {},
   "outputs": [
    {
     "name": "stdout",
     "output_type": "stream",
     "text": [
      "Enter username: root\n",
      "Enter password: ········\n",
      "('Aishu', '1234567890', 'imara12$', 'imara12$')\n",
      "('Kannarao', '1234567897', 'myhome56', 'myhome56')\n",
      "('NAjay', '1234567899', 'myhome78', 'myhome78')\n",
      "('NSivaP', '7702954705', 'myhome02', 'myhome02')\n",
      "('Suguna', '8008404519', 'myhome11', 'myhome11')\n",
      "('Susmitha', '9704056271', 'myhome12', 'myhome12')\n"
     ]
    }
   ],
   "source": [
    "select_users_table_query = \"\"\" SELECT * FROM users \"\"\"\n",
    "try:\n",
    "    with connect(\n",
    "        host=\"localhost\",\n",
    "        user=input(\"Enter username: \"),\n",
    "        password=getpass(\"Enter password: \"),\n",
    "        database = 'user_database'\n",
    "    ) as connection:\n",
    "         with connection.cursor() as cursor:\n",
    "                        cursor.execute(select_users_table_query)\n",
    "                        \n",
    "                        result = cursor.fetchall()\n",
    "                        #print (result)\n",
    "                        for row in result:\n",
    "                            print (row)\n",
    "except Error as e:\n",
    "    print(e) "
   ]
  },
  {
   "cell_type": "code",
   "execution_count": 68,
   "id": "6286dd8b",
   "metadata": {},
   "outputs": [],
   "source": [
    "alter_userdb_query = \"\"\"ALTER TABLE users CHANGE confirm_password confirm_password VARCHAR(8) NOT NULL \"\"\"\n"
   ]
  },
  {
   "cell_type": "code",
   "execution_count": 70,
   "id": "c8f556cb",
   "metadata": {},
   "outputs": [
    {
     "name": "stdout",
     "output_type": "stream",
     "text": [
      "Enter username: root\n",
      "Enter password: ········\n"
     ]
    }
   ],
   "source": [
    "try:\n",
    "    with connect(\n",
    "        host=\"localhost\",\n",
    "        user=input(\"Enter username: \"),\n",
    "        password=getpass(\"Enter password: \"),\n",
    "        database = 'user_database'\n",
    "    ) as connection:\n",
    "        \n",
    "        with connection.cursor() as cursor:\n",
    "            cursor.execute(alter_userdb_query)\n",
    "            \n",
    "except Error as e:\n",
    "    print(e)"
   ]
  },
  {
   "cell_type": "markdown",
   "id": "386bd4a7",
   "metadata": {},
   "source": [
    "## Create Friends Table in user database"
   ]
  },
  {
   "cell_type": "code",
   "execution_count": 5,
   "id": "1c40b139",
   "metadata": {},
   "outputs": [
    {
     "name": "stdout",
     "output_type": "stream",
     "text": [
      "Enter username: root\n",
      "Enter password: ········\n"
     ]
    }
   ],
   "source": [
    "## ignore\n",
    "from getpass import getpass\n",
    "from mysql.connector import connect, Error\n",
    "\n",
    "try:\n",
    "    with connect(\n",
    "        host=\"localhost\",\n",
    "        user=input(\"Enter username: \"),\n",
    "        password=getpass(\"Enter password: \"),\n",
    "    ) as connection:\n",
    "        create_db_query = \"CREATE DATABASE friends_database\"\n",
    "        with connection.cursor() as cursor:\n",
    "            cursor.execute(create_db_query)\n",
    "except Error as e:\n",
    "    print(e)"
   ]
  },
  {
   "cell_type": "code",
   "execution_count": 10,
   "id": "575f008c",
   "metadata": {},
   "outputs": [],
   "source": [
    "create_friends_table_query = \"\"\"\n",
    "CREATE TABLE friends (\n",
    "       phone_num1 VARCHAR(10) NOT NULL,\n",
    "       phone_num2 VARCHAR(10) NOT NULL,\n",
    "       PRIMARY KEY(phone_num1,phone_num2)\n",
    ")\n",
    "\"\"\""
   ]
  },
  {
   "cell_type": "code",
   "execution_count": 11,
   "id": "a04c784a",
   "metadata": {},
   "outputs": [
    {
     "name": "stdout",
     "output_type": "stream",
     "text": [
      "Enter username: root\n",
      "Enter password: ········\n"
     ]
    }
   ],
   "source": [
    "try:\n",
    "    with connect(\n",
    "        host=\"localhost\",\n",
    "        user=input(\"Enter username: \"),\n",
    "        password=getpass(\"Enter password: \"),\n",
    "        database = 'user_database'\n",
    "    ) as connection:\n",
    "        \n",
    "        with connection.cursor() as cursor:\n",
    "            cursor.execute(create_friends_table_query)\n",
    "            \n",
    "except Error as e:\n",
    "    print(e)"
   ]
  },
  {
   "cell_type": "code",
   "execution_count": 17,
   "id": "0b8eeecf",
   "metadata": {},
   "outputs": [
    {
     "name": "stdout",
     "output_type": "stream",
     "text": [
      "Enter username: root\n",
      "Enter password: ········\n",
      "('phone_num1', b'varchar(10)', 'NO', 'PRI', None, '')\n",
      "('phone_num2', b'varchar(10)', 'NO', 'PRI', None, '')\n",
      "('friend_name', b'varchar(20)', 'YES', '', None, '')\n"
     ]
    }
   ],
   "source": [
    "show_table_query = \"DESCRIBE friends\"\n",
    "\n",
    "try:\n",
    "    with connect(\n",
    "        host=\"localhost\",\n",
    "        user=input(\"Enter username: \"),\n",
    "        password=getpass(\"Enter password: \"),\n",
    "        database = 'user_database'\n",
    "    ) as connection:\n",
    "         with connection.cursor() as cursor:\n",
    "                        cursor.execute(show_table_query)\n",
    "                        result = cursor.fetchall()\n",
    "                        for row in result:\n",
    "                            print (row)\n",
    "except Error as e:\n",
    "    print(e) "
   ]
  },
  {
   "cell_type": "code",
   "execution_count": 15,
   "id": "e9519a49",
   "metadata": {},
   "outputs": [],
   "source": [
    "alter_friend_table_query = \"\"\" ALTER TABLE friends\n",
    "ADD friend_name VARCHAR(20);\n",
    "\n",
    "\"\"\""
   ]
  },
  {
   "cell_type": "code",
   "execution_count": 16,
   "id": "232b637f",
   "metadata": {},
   "outputs": [
    {
     "name": "stdout",
     "output_type": "stream",
     "text": [
      "Enter username: root\n",
      "Enter password: ········\n"
     ]
    }
   ],
   "source": [
    "try:\n",
    "    with connect(\n",
    "        host=\"localhost\",\n",
    "        user=input(\"Enter username: \"),\n",
    "        password=getpass(\"Enter password: \"),\n",
    "        database = 'user_database'\n",
    "    ) as connection:\n",
    "         with connection.cursor() as cursor:\n",
    "                        cursor.execute(alter_friend_table_query)\n",
    "                        result = cursor.fetchall()\n",
    "                        for row in result:\n",
    "                            print (row)\n",
    "except Error as e:\n",
    "    print(e) "
   ]
  },
  {
   "cell_type": "code",
   "execution_count": 5,
   "id": "c5019365",
   "metadata": {},
   "outputs": [
    {
     "name": "stdout",
     "output_type": "stream",
     "text": [
      "Enter username: root\n",
      "Enter password: ········\n",
      "[('9704056271', '1234567890', 'Aishu'), ('9704056271', '7702954705', 'NSivaP'), ('9704056271', '8008414519', 'Amma1')]\n",
      "<class 'list'>\n"
     ]
    }
   ],
   "source": [
    "select_users_table_query = \"\"\" SELECT * FROM friends \"\"\"\n",
    "try:\n",
    "    with connect(\n",
    "        host=\"localhost\",\n",
    "        user=input(\"Enter username: \"),\n",
    "        password=getpass(\"Enter password: \"),\n",
    "        database = 'user_database'\n",
    "    ) as connection:\n",
    "         with connection.cursor() as cursor:\n",
    "                        cursor.execute(select_users_table_query)\n",
    "                        \n",
    "                        result = cursor.fetchall()\n",
    "                        #print (result)\n",
    "                        #for row in result:\n",
    "                        print (result)\n",
    "                        print (type(result))\n",
    "except Error as e:\n",
    "    print(e) "
   ]
  },
  {
   "cell_type": "code",
   "execution_count": 12,
   "id": "1a9bb553",
   "metadata": {},
   "outputs": [],
   "source": [
    "create_chats_table_query = \"\"\" CREATE TABLE chats \n",
    "(\n",
    "ID         INT NOT NULL AUTO_INCREMENT PRIMARY KEY,\n",
    "P1         VARCHAR(10) NOT NULL,\n",
    "sender     VARCHAR(20) NOT NULL,\n",
    "P2         VARCHAR(10) NOT NULL,\n",
    "receiver   VARCHAR(20) NOT NULL,\n",
    "message    VARCHAR(100),\n",
    "dt         DATETIME,\n",
    "FOREIGN KEY(P1) REFERENCES users(contact),\n",
    "FOREIGN KEY(P2) REFERENCES users(contact)\n",
    ")\n",
    "\"\"\"\n"
   ]
  },
  {
   "cell_type": "code",
   "execution_count": 13,
   "id": "aa49c19a",
   "metadata": {},
   "outputs": [
    {
     "name": "stdout",
     "output_type": "stream",
     "text": [
      "Enter username: root\n",
      "Enter password: ········\n"
     ]
    }
   ],
   "source": [
    "from getpass import getpass\n",
    "from mysql.connector import connect, Error\n",
    "\n",
    "try:\n",
    "    with connect(\n",
    "        host=\"localhost\",\n",
    "        user=input(\"Enter username: \"),\n",
    "        password=getpass(\"Enter password: \"),\n",
    "        database = 'user_database'\n",
    "    ) as connection:\n",
    "        \n",
    "        with connection.cursor() as cursor:\n",
    "            cursor.execute(create_chats_table_query)\n",
    "except Error as e:\n",
    "    print(e)"
   ]
  },
  {
   "cell_type": "code",
   "execution_count": 14,
   "id": "fd92bd50",
   "metadata": {},
   "outputs": [
    {
     "name": "stdout",
     "output_type": "stream",
     "text": [
      "Enter username: root\n",
      "Enter password: ········\n",
      "Unread result found\n"
     ]
    }
   ],
   "source": [
    "from getpass import getpass\n",
    "from mysql.connector import connect, Error\n",
    "\n",
    "try:\n",
    "    with connect(\n",
    "        host=\"localhost\",\n",
    "        user=input(\"Enter username: \"),\n",
    "        password=getpass(\"Enter password: \"),\n",
    "        database = 'user_database'\n",
    "    ) as connection:\n",
    "        \n",
    "        with connection.cursor() as cursor:\n",
    "            cursor.execute(\"DESCRIBE chats\")\n",
    "except Error as e:\n",
    "    print(e)"
   ]
  },
  {
   "cell_type": "code",
   "execution_count": 15,
   "id": "49766849",
   "metadata": {},
   "outputs": [
    {
     "name": "stdout",
     "output_type": "stream",
     "text": [
      "Enter username: root\n",
      "Enter password: ········\n",
      "('ID', b'int', 'NO', 'PRI', None, 'auto_increment')\n",
      "('P1', b'varchar(10)', 'NO', 'MUL', None, '')\n",
      "('sender', b'varchar(20)', 'NO', '', None, '')\n",
      "('P2', b'varchar(10)', 'NO', 'MUL', None, '')\n",
      "('receiver', b'varchar(20)', 'NO', '', None, '')\n",
      "('message', b'varchar(100)', 'YES', '', None, '')\n",
      "('dt', b'datetime', 'YES', '', None, '')\n"
     ]
    }
   ],
   "source": [
    "show_table_query = \"DESCRIBE chats\"\n",
    "\n",
    "try:\n",
    "    with connect(\n",
    "        host=\"localhost\",\n",
    "        user=input(\"Enter username: \"),\n",
    "        password=getpass(\"Enter password: \"),\n",
    "        database = 'user_database'\n",
    "    ) as connection:\n",
    "         with connection.cursor() as cursor:\n",
    "                        cursor.execute(show_table_query)\n",
    "                        result = cursor.fetchall()\n",
    "                        for row in result:\n",
    "                            print (row)\n",
    "except Error as e:\n",
    "    print(e) "
   ]
  },
  {
   "cell_type": "code",
   "execution_count": 3,
   "id": "41de8d10",
   "metadata": {},
   "outputs": [
    {
     "name": "stdout",
     "output_type": "stream",
     "text": [
      "Enter username: root\n",
      "Enter password: ········\n",
      "[]\n",
      "<class 'list'>\n"
     ]
    }
   ],
   "source": [
    "from getpass import getpass\n",
    "from mysql.connector import connect, Error\n",
    "select_chats_table_query = \"\"\" SELECT * FROM chats \"\"\"\n",
    "try:\n",
    "    with connect(\n",
    "        host=\"localhost\",\n",
    "        user=input(\"Enter username: \"),\n",
    "        password=getpass(\"Enter password: \"),\n",
    "        database = 'user_database'\n",
    "    ) as connection:\n",
    "         with connection.cursor() as cursor:\n",
    "                        cursor.execute(select_chats_table_query)\n",
    "                        \n",
    "                        result = cursor.fetchall()\n",
    "                        #print (result)\n",
    "                        #for row in result:\n",
    "                        print (result)\n",
    "                        print (type(result))\n",
    "except Error as e:\n",
    "    print(e) "
   ]
  },
  {
   "cell_type": "code",
   "execution_count": 7,
   "id": "f0e94978",
   "metadata": {},
   "outputs": [],
   "source": [
    "alter_chats_table_query = \"\"\" ALTER TABLE chats MODIFY dt TIMESTAMP NOT NULL DEFAULT CURRENT_TIMESTAMP\"\"\""
   ]
  },
  {
   "cell_type": "code",
   "execution_count": 8,
   "id": "4e16b147",
   "metadata": {},
   "outputs": [
    {
     "name": "stdout",
     "output_type": "stream",
     "text": [
      "Enter username: root\n",
      "Enter password: ········\n"
     ]
    }
   ],
   "source": [
    "from getpass import getpass\n",
    "from mysql.connector import connect, Error\n",
    "\n",
    "try:\n",
    "    with connect(\n",
    "        host=\"localhost\",\n",
    "        user=input(\"Enter username: \"),\n",
    "        password=getpass(\"Enter password: \"),\n",
    "        database = 'user_database'\n",
    "    ) as connection:\n",
    "         with connection.cursor() as cursor:\n",
    "                        cursor.execute(alter_chats_table_query)\n",
    "                        \n",
    "                        \n",
    "except Error as e:\n",
    "    print(e) "
   ]
  },
  {
   "cell_type": "code",
   "execution_count": 9,
   "id": "aa93f5d0",
   "metadata": {},
   "outputs": [
    {
     "name": "stdout",
     "output_type": "stream",
     "text": [
      "Enter username: root\n",
      "Enter password: ········\n",
      "('ID', b'int', 'NO', 'PRI', None, 'auto_increment')\n",
      "('P1', b'varchar(10)', 'NO', 'MUL', None, '')\n",
      "('sender', b'varchar(20)', 'NO', '', None, '')\n",
      "('P2', b'varchar(10)', 'NO', 'MUL', None, '')\n",
      "('receiver', b'varchar(20)', 'NO', '', None, '')\n",
      "('message', b'varchar(100)', 'YES', '', None, '')\n",
      "('dt', b'timestamp', 'NO', '', b'CURRENT_TIMESTAMP', 'DEFAULT_GENERATED')\n"
     ]
    }
   ],
   "source": [
    "show_table_query = \"DESCRIBE chats\"\n",
    "\n",
    "try:\n",
    "    with connect(\n",
    "        host=\"localhost\",\n",
    "        user=input(\"Enter username: \"),\n",
    "        password=getpass(\"Enter password: \"),\n",
    "        database = 'user_database'\n",
    "    ) as connection:\n",
    "         with connection.cursor() as cursor:\n",
    "                        cursor.execute(show_table_query)\n",
    "                        result = cursor.fetchall()\n",
    "                        for row in result:\n",
    "                            print (row)\n",
    "except Error as e:\n",
    "    print(e) "
   ]
  },
  {
   "cell_type": "code",
   "execution_count": 9,
   "id": "ce56a0a6",
   "metadata": {},
   "outputs": [
    {
     "name": "stdout",
     "output_type": "stream",
     "text": [
      "Enter username: root\n",
      "Enter password: ········\n",
      "(3, '9704056271', 'Susmitha', '7702954705', 'NSivaP', 'Hi Siva', datetime.datetime(2021, 9, 22, 12, 1, 35))\n",
      "(11, '9704056271', 'Susmitha', '7702954705', 'NSivaP', 'Are you in office?', datetime.datetime(2021, 9, 22, 17, 41, 6))\n",
      "(17, '9704056271', 'Susmitha', '7702954705', 'NSivaP', 'Hi', datetime.datetime(2021, 9, 28, 14, 5, 26))\n",
      "(18, '9704056271', 'Susmitha', '7702954705', 'NSivaP', 'Hi', datetime.datetime(2021, 9, 28, 16, 4, 43))\n",
      "(19, '9704056271', 'Susmitha', '7702954705', 'NSivaP', 'Hi', datetime.datetime(2021, 9, 28, 16, 10, 57))\n",
      "(20, '9704056271', 'Susmitha', '7702954705', 'NSivaP', 'Hi', datetime.datetime(2021, 9, 28, 17, 3, 56))\n",
      "(21, '9704056271', 'Susmitha', '7702954705', 'NSivaP', 'Hi', datetime.datetime(2021, 9, 28, 17, 21, 14))\n",
      "(24, '9704056271', 'Susmitha', '7702954705', 'NSivaP', 'Dinner', datetime.datetime(2021, 9, 28, 18, 58, 49))\n",
      "(25, '9704056271', 'Susmitha', '7702954705', 'NSivaP', 'Good night', datetime.datetime(2021, 9, 28, 21, 7, 59))\n",
      "(26, '9704056271', 'Susmitha', '7702954705', 'NSivaP', 'Good night', datetime.datetime(2021, 9, 29, 9, 58, 51))\n"
     ]
    }
   ],
   "source": [
    "from getpass import getpass\n",
    "from mysql.connector import connect, Error\n",
    "\n",
    "show_table_query = \"\"\"SELECT * FROM chats \n",
    "                                    WHERE P1 = '9704056271' AND P2 =  '7702954705' \"\"\"\n",
    "\n",
    "try:\n",
    "    with connect(\n",
    "        host=\"localhost\",\n",
    "        user=input(\"Enter username: \"),\n",
    "        password=getpass(\"Enter password: \"),\n",
    "        database = 'user_database'\n",
    "    ) as connection:\n",
    "         with connection.cursor() as cursor:\n",
    "                        cursor.execute(show_table_query)\n",
    "                        result = cursor.fetchall()\n",
    "                        for row in result:\n",
    "                            print (row)\n",
    "except Error as e:\n",
    "    print(e) "
   ]
  },
  {
   "cell_type": "code",
   "execution_count": null,
   "id": "315c7b56",
   "metadata": {},
   "outputs": [],
   "source": [
    "from getpass import getpass\n",
    "from mysql.connector import connect, Error\n",
    "\n",
    "select_users_table_query = \"\"\" DELETE FROM friends WHERE phone_num2 = '8008414519'\"\"\"\n",
    "try:\n",
    "    with connect(\n",
    "        host=\"localhost\",\n",
    "        user=input(\"Enter username: \"),\n",
    "        password=getpass(\"Enter password: \"),\n",
    "        database = 'user_database'\n",
    "    ) as connection:\n",
    "         with connection.cursor() as cursor:\n",
    "                        cursor.execute(select_users_table_query)\n",
    "                        connection.commit()\n",
    "                        result = cursor.fetchall()\n",
    "                        #print (result)\n",
    "                        #for row in result:\n",
    "                        print (result)\n",
    "                        print (type(result))\n",
    "except Error as e:\n",
    "    print(e)"
   ]
  },
  {
   "cell_type": "code",
   "execution_count": null,
   "id": "6c3b5803",
   "metadata": {},
   "outputs": [],
   "source": [
    "show_table_query = \"SELECT * FROM chats WHERE P1 = '9704056271' AND P2 =  '1234567890' \"\n",
    "\n",
    "try:\n",
    "    with connect(\n",
    "        host=\"localhost\",\n",
    "        user=input(\"Enter username: \"),\n",
    "        password=getpass(\"Enter password: \"),\n",
    "        database = 'user_database'\n",
    "    ) as connection:\n",
    "         with connection.cursor() as cursor:\n",
    "                        cursor.execute(show_table_query)\n",
    "                        #connection.commit()\n",
    "                        result = cursor.fetchall()\n",
    "                        for row in result:\n",
    "                            print (row)\n",
    "except Error as e:\n",
    "    print(e) "
   ]
  },
  {
   "cell_type": "code",
   "execution_count": 3,
   "id": "d1330feb",
   "metadata": {},
   "outputs": [
    {
     "name": "stdout",
     "output_type": "stream",
     "text": [
      "Enter username: root\n",
      "Enter password: ········\n",
      "[('9704056271', '1234567890', 'Aishu'), ('9704056271', '1234567899', 'NAjay'), ('9704056271', '7702954705', 'NSivaP')]\n",
      "<class 'list'>\n"
     ]
    }
   ],
   "source": [
    "from getpass import getpass\n",
    "from mysql.connector import connect, Error\n",
    "select_users_table_query = \"\"\" SELECT * FROM friends\"\"\"\n",
    "try:\n",
    "    with connect(\n",
    "        host=\"localhost\",\n",
    "        user=input(\"Enter username: \"),\n",
    "        password=getpass(\"Enter password: \"),\n",
    "        database = 'user_database'\n",
    "    ) as connection:\n",
    "         with connection.cursor() as cursor:\n",
    "                        cursor.execute(select_users_table_query)\n",
    "                        #connection.commit()\n",
    "                        result = cursor.fetchall()\n",
    "                        #print (result)\n",
    "                        #for row in result:\n",
    "                        print (result)\n",
    "                        print (type(result))\n",
    "except Error as e:\n",
    "    print(e)"
   ]
  },
  {
   "cell_type": "code",
   "execution_count": 16,
   "id": "8e756ac4",
   "metadata": {},
   "outputs": [
    {
     "name": "stdout",
     "output_type": "stream",
     "text": [
      "Enter username: root\n",
      "Enter password: ········\n",
      "(104, '7702954705', 'NSivaP', '9704056271', 'HomeMinister', 'siva prasad', datetime.datetime(2021, 10, 11, 10, 42, 47))\n"
     ]
    }
   ],
   "source": [
    "from getpass import getpass\n",
    "from mysql.connector import connect, Error\n",
    "\n",
    "show_table_query = \"\"\"SELECT * FROM chats \n",
    "                                    WHERE P2 = '9704056271' AND P1 =  '7702954705' \"\"\"\n",
    "\n",
    "try:\n",
    "    with connect(\n",
    "        host=\"localhost\",\n",
    "        user=input(\"Enter username: \"),\n",
    "        password=getpass(\"Enter password: \"),\n",
    "        database = 'user_database'\n",
    "    ) as connection:\n",
    "         with connection.cursor() as cursor:\n",
    "                        cursor.execute(show_table_query)\n",
    "                        result = cursor.fetchall()\n",
    "                        for row in result:\n",
    "                            print (row)\n",
    "except Error as e:\n",
    "    print(e) "
   ]
  },
  {
   "cell_type": "code",
   "execution_count": 17,
   "id": "efb7ebee",
   "metadata": {},
   "outputs": [
    {
     "name": "stdout",
     "output_type": "stream",
     "text": [
      "Enter username: root\n",
      "Enter password: ········\n"
     ]
    }
   ],
   "source": [
    "from getpass import getpass\n",
    "from mysql.connector import connect, Error\n",
    "\n",
    "show_table_query = \"\"\"DELETE FROM chats \n",
    "                                    WHERE P1 = '9704056271' AND P2 =  '7702954705'\n",
    "                                    AND ID in (104)\"\"\"\n",
    "\n",
    "try:\n",
    "    with connect(\n",
    "        host=\"localhost\",\n",
    "        user=input(\"Enter username: \"),\n",
    "        password=getpass(\"Enter password: \"),\n",
    "        database = 'user_database'\n",
    "    ) as connection:\n",
    "         with connection.cursor() as cursor:\n",
    "                        cursor.execute(show_table_query)\n",
    "                        connection.commit()\n",
    "                        result = cursor.fetchall()\n",
    "                        for row in result:\n",
    "                            print (row)\n",
    "except Error as e:\n",
    "    print(e) "
   ]
  },
  {
   "cell_type": "code",
   "execution_count": 12,
   "id": "d938b073",
   "metadata": {},
   "outputs": [
    {
     "name": "stdout",
     "output_type": "stream",
     "text": [
      "Enter username: root\n",
      "Enter password: ········\n",
      "[(40, '9704056271', 'Susmitha', '7702954705', 'NSivaP', 'Sleep time', datetime.datetime(2021, 9, 30, 17, 7, 14))]\n",
      "(40, '9704056271', 'Susmitha', '7702954705', 'NSivaP', 'Sleep time', datetime.datetime(2021, 9, 30, 17, 7, 14))\n"
     ]
    }
   ],
   "source": [
    "\n",
    "\n",
    "from getpass import getpass\n",
    "from mysql.connector import connect, Error\n",
    "\n",
    "show_table_query = \"\"\"SELECT * FROM chats WHERE id=(SELECT MAX(id) FROM chats); \"\"\"\n",
    "\n",
    "try:\n",
    "    with connect(\n",
    "        host=\"localhost\",\n",
    "        user=input(\"Enter username: \"),\n",
    "        password=getpass(\"Enter password: \"),\n",
    "        database = 'user_database'\n",
    "    ) as connection:\n",
    "         with connection.cursor() as cursor:\n",
    "                        cursor.execute(show_table_query)\n",
    "                        result = cursor.fetchall()\n",
    "                        print (result)\n",
    "                        for row in result:\n",
    "                            print (row)\n",
    "except Error as e:\n",
    "    print(e) "
   ]
  },
  {
   "cell_type": "code",
   "execution_count": null,
   "id": "c05b3b97",
   "metadata": {},
   "outputs": [],
   "source": []
  }
 ],
 "metadata": {
  "kernelspec": {
   "display_name": "Python 3",
   "language": "python",
   "name": "python3"
  },
  "language_info": {
   "codemirror_mode": {
    "name": "ipython",
    "version": 3
   },
   "file_extension": ".py",
   "mimetype": "text/x-python",
   "name": "python",
   "nbconvert_exporter": "python",
   "pygments_lexer": "ipython3",
   "version": "3.8.8"
  }
 },
 "nbformat": 4,
 "nbformat_minor": 5
}
